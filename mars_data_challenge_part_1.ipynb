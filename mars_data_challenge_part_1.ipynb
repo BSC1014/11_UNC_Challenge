{
 "cells": [
  {
   "cell_type": "code",
   "execution_count": 1,
   "metadata": {},
   "outputs": [],
   "source": [
    "\n",
    "from bs4 import BeautifulSoup\n",
    "import pandas as pd\n",
    "from splinter import Browser\n",
    "from webdriver_manager.chrome import ChromeDriverManager\n",
    "\n"
   ]
  },
  {
   "cell_type": "code",
   "execution_count": 2,
   "metadata": {},
   "outputs": [
    {
     "name": "stderr",
     "output_type": "stream",
     "text": [
      "[WDM] - Downloading: 100%|██████████| 8.41M/8.41M [00:00<00:00, 25.5MB/s]\n"
     ]
    }
   ],
   "source": [
    "#Set Website \n",
    "url = ' https://redplanetscience.com/'\n",
    "\n",
    "#Set Path and Broswer \n",
    "executable_path = {'executable_path': ChromeDriverManager().install()}\n",
    "browser = Browser('chrome', **executable_path, headless=False)"
   ]
  },
  {
   "cell_type": "code",
   "execution_count": 3,
   "metadata": {},
   "outputs": [],
   "source": [
    "# Open Website & Set HTML\n",
    "browser.visit(url)\n",
    "html = browser.html\n",
    "\n",
    "# parse HTML using BeautifulSoup\n",
    "soup = BeautifulSoup(html, 'html.parser')\n"
   ]
  },
  {
   "cell_type": "code",
   "execution_count": 4,
   "metadata": {},
   "outputs": [],
   "source": [
    "#Create Article List w/Preview\n",
    "\n",
    "stories = []\n",
    "articles = soup.find_all(\"div\", class_=\"list_text\")\n",
    "\n",
    "for story in articles:\n",
    "    title = story.find(\"div\", class_=\"content_title\").text\n",
    "    preview = story.find(\"div\", class_=\"article_teaser_body\").text\n",
    "    article_dict = {\"Title\": title, \"Preview\": preview}\n",
    "    stories.append(article_dict)"
   ]
  },
  {
   "cell_type": "code",
   "execution_count": 5,
   "metadata": {},
   "outputs": [
    {
     "data": {
      "text/plain": [
       "[{'Title': 'MOXIE Could Help Future Rockets Launch Off Mars',\n",
       "  'Preview': \"NASA's Perseverance rover carries a device to convert Martian air into oxygen that, if produced on a larger scale, could be used not just for breathing, but also for fuel.\"},\n",
       " {'Title': \"NASA's Perseverance Rover Will Peer Beneath Mars' Surface \",\n",
       "  'Preview': \"The agency's newest rover will use the first ground-penetrating radar instrument on the Martian surface to help search for signs of past microbial life. \"},\n",
       " {'Title': \"NASA's Mars Helicopter Attached to Mars 2020 Rover \",\n",
       "  'Preview': 'The helicopter will be first aircraft to perform flight tests on another planet.'},\n",
       " {'Title': \"NASA's Mars 2020 Rover Closer to Getting Its Name\",\n",
       "  'Preview': \"155 students from across the U.S. have been chosen as semifinalists in NASA's essay contest to name the Mars 2020 rover, and see it launch from Cape Canaveral this July.\"},\n",
       " {'Title': 'Sensors on Mars 2020 Spacecraft Answer Long-Distance Call From Earth',\n",
       "  'Preview': \"Instruments tailored to collect data during the descent of NASA's next rover through the Red Planet's atmosphere have been checked in flight.\"},\n",
       " {'Title': \"NASA's Mars Reconnaissance Orbiter Undergoes Memory Update\",\n",
       "  'Preview': 'Other orbiters will continue relaying data from Mars surface missions for a two-week period.'},\n",
       " {'Title': \"Follow NASA's Perseverance Rover in Real Time on Its Way to Mars\",\n",
       "  'Preview': \"A crisply rendered web application can show you where the agency's Mars 2020 mission is right now as it makes its way to the Red Planet for a Feb. 18, 2021, landing.\"},\n",
       " {'Title': \"Robotic Toolkit Added to NASA's Mars 2020 Rover\",\n",
       "  'Preview': \"The bit carousel, which lies at the heart of the rover's Sample Caching System, is now aboard NASA's newest rover. \"},\n",
       " {'Title': \"6 Things to Know About NASA's Ingenuity Mars Helicopter\",\n",
       "  'Preview': 'The first helicopter attempting to fly on another planet is a marvel of engineering. Get up to speed with these key facts about its plans.'},\n",
       " {'Title': 'Global Storms on Mars Launch Dust Towers Into the Sky',\n",
       "  'Preview': 'A Mars Dust Tower Stands Out Dust storms are common on Mars. But every decade or so, something unpredictable happens: a series of runaway storms break out, covering the entire planet in a dusty haze.'},\n",
       " {'Title': \"Common Questions about InSight's 'Mole'\",\n",
       "  'Preview': 'The following Q&As with members of the team answer some of the most common questions about the burrowing device, part of a science instrument called the Heat Flow and Physical Properties Package (HP3).'},\n",
       " {'Title': \"Hear Audio From NASA's Perseverance As It Travels Through Deep Space\",\n",
       "  'Preview': \"The first to be rigged with microphones, the agency's latest Mars rover picked up the subtle sounds of its own inner workings during interplanetary flight.\"},\n",
       " {'Title': \"NASA's Curiosity Keeps Rolling As Team Operates Rover From Home\",\n",
       "  'Preview': 'The team has learned to meet new challenges as they work remotely on the Mars mission.'},\n",
       " {'Title': \"Curiosity Mars Rover's Summer Road Trip Has Begun\",\n",
       "  'Preview': 'After more than a year in the \"clay-bearing unit,\" Curiosity is making a mile-long journey around some deep sand so that it can explore higher up Mount Sharp.'},\n",
       " {'Title': 'My Culture, My Voice',\n",
       "  'Preview': 'In honor of Hispanic Heritage Month, Christina Hernandez, an instrument engineer on the Mars 2020 mission, talks about her childhood and journey to NASA.'}]"
      ]
     },
     "execution_count": 5,
     "metadata": {},
     "output_type": "execute_result"
    }
   ],
   "source": [
    "stories"
   ]
  },
  {
   "cell_type": "code",
   "execution_count": 6,
   "metadata": {},
   "outputs": [],
   "source": [
    "browser.quit()"
   ]
  }
 ],
 "metadata": {
  "kernelspec": {
   "display_name": "Python 3.7.13",
   "language": "python",
   "name": "python3"
  },
  "language_info": {
   "codemirror_mode": {
    "name": "ipython",
    "version": 3
   },
   "file_extension": ".py",
   "mimetype": "text/x-python",
   "name": "python",
   "nbconvert_exporter": "python",
   "pygments_lexer": "ipython3",
   "version": "3.7.13"
  },
  "orig_nbformat": 4,
  "vscode": {
   "interpreter": {
    "hash": "a5387b9da968551e43e0ccab31c37bebadc093c630309dcd510e17231b5b064a"
   }
  }
 },
 "nbformat": 4,
 "nbformat_minor": 2
}
